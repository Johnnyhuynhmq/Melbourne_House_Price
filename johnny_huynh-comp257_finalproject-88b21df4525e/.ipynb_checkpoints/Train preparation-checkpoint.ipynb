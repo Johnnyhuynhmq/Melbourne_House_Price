{
 "cells": [
  {
   "cell_type": "code",
   "execution_count": null,
   "metadata": {
    "collapsed": true
   },
   "outputs": [],
   "source": [
    "from geopy.geocoders import Nominatim\n",
    "from geopy.distance import vincenty\n",
    "import pandas as pd\n",
    "import matplotlib.pyplot as plt"
   ]
  },
  {
   "cell_type": "code",
   "execution_count": null,
   "metadata": {
    "collapsed": false,
    "scrolled": true
   },
   "outputs": [],
   "source": [
    "data = pd.read_csv('raw_train.csv')\n",
    "data.drop(data[data[' STATIONNAME']=='Carnegie (Temporarily Closed)'].index, inplace=True)\n"
   ]
  },
  {
   "cell_type": "code",
   "execution_count": null,
   "metadata": {
    "collapsed": true
   },
   "outputs": [],
   "source": [
    "# Find latitude and longitude using geopy package\n",
    "train_station = []\n",
    "latitude = []\n",
    "longitude = []\n",
    "boring_list = []\n",
    "for i in data[' STATIONNAME']:\n",
    "    try:\n",
    "        location = geolocator.geocode(i+' station victoria', timeout=10)\n",
    "        latitude.append(location.latitude)\n",
    "        longitude.append(location.longitude)\n",
    "        train_station.append(i)\n",
    "    except:\n",
    "        print(i)\n",
    "        boring_list.append(i)\n",
    "print('Done')\n",
    "        "
   ]
  },
  {
   "cell_type": "code",
   "execution_count": null,
   "metadata": {
    "collapsed": false
   },
   "outputs": [],
   "source": [
    "train_station_2 = []\n",
    "latitude_2 = []\n",
    "longitude_2 = []\n",
    "for i in boring_list:\n",
    "    try:\n",
    "        location = geolocator.geocode(i+' station', timeout=10)\n",
    "        latitude_2.append(location.latitude)\n",
    "        longitude_2.append(location.longitude)\n",
    "        train_station_2.append(i)\n",
    "    except:\n",
    "        print(i)\n",
    "    \n",
    "print('Done')"
   ]
  },
  {
   "cell_type": "code",
   "execution_count": null,
   "metadata": {
    "collapsed": false,
    "scrolled": true
   },
   "outputs": [],
   "source": [
    "# Combine train_station and train_station_2\n",
    "for i in train_station_2:\n",
    "    train_station.append(i)\n",
    "for i in latitude_2:\n",
    "    latitude.append(i)\n",
    "for i in longitude_2:\n",
    "    longitude.append(i)"
   ]
  },
  {
   "cell_type": "code",
   "execution_count": null,
   "metadata": {
    "collapsed": true
   },
   "outputs": [],
   "source": [
    "# Manually add Jolimont into three lists\n",
    "geolocator = Nominatim() \n",
    "location1 = geolocator.geocode('Jolimont station')\n",
    "location1.latitude\n",
    "location1.longitude\n",
    "train_station.append('Jolimont')\n",
    "latitude.append(location1.latitude)\n",
    "longitude.appen(location1.longitude)"
   ]
  },
  {
   "cell_type": "code",
   "execution_count": null,
   "metadata": {
    "collapsed": false
   },
   "outputs": [],
   "source": [
    "# Convert 3 lists into a data frame and have a look at the train map\n",
    "create_dict = {'train_station': train_station,\n",
    "               'latitude': latitude,\n",
    "               'longitude': longitude}\n",
    "processed_train = pd.DataFrame(create_dict)\n",
    "processed_train.head()\n",
    "plt.scatter(processed_train.latitude, processed_train.longitude)\n",
    "plt.show()"
   ]
  },
  {
   "cell_type": "code",
   "execution_count": null,
   "metadata": {
    "collapsed": false,
    "scrolled": true
   },
   "outputs": [],
   "source": [
    "# Exclude all regional stations, reindex and have another look at the train map\n",
    "subset = subset[subset.latitude < -35]\n",
    "subset = subset[subset.longitude < 146]\n",
    "melbourne_train = subset\n",
    "melbourne_train.index = range(253)\n",
    "plt.scatter(melbourne_train.latitude, melbourne_train.longitude)\n",
    "plt.show()"
   ]
  },
  {
   "cell_type": "code",
   "execution_count": null,
   "metadata": {
    "collapsed": true
   },
   "outputs": [],
   "source": [
    "# Save to a .csv file\n",
    "melbourne_train.to_csv('melbourne train')"
   ]
  },
  {
   "cell_type": "code",
   "execution_count": null,
   "metadata": {
    "collapsed": true
   },
   "outputs": [],
   "source": []
  }
 ],
 "metadata": {
  "kernelspec": {
   "display_name": "Python 3",
   "language": "python",
   "name": "python3"
  },
  "language_info": {
   "codemirror_mode": {
    "name": "ipython",
    "version": 3
   },
   "file_extension": ".py",
   "mimetype": "text/x-python",
   "name": "python",
   "nbconvert_exporter": "python",
   "pygments_lexer": "ipython3",
   "version": "3.6.0"
  }
 },
 "nbformat": 4,
 "nbformat_minor": 2
}
