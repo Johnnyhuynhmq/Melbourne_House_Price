{
 "cells": [
  {
   "cell_type": "markdown",
   "metadata": {},
   "source": [
    "# Revision\n",
    "I got a quite good result for this notebook (94%). As Neil suggested, I re-organized and re_wrote some of the sentence statements. <br>\n",
    "For the challenge, I would appreciate if you can suggest more things to expand the model expect the Ridge and Lasso regressions that I have done. <br>\n",
    "No Major changes overall. "
   ]
  },
  {
   "cell_type": "code",
   "execution_count": 1,
   "metadata": {
    "collapsed": true
   },
   "outputs": [],
   "source": [
    "student_name = 'Tuan Dat Huynh'\n",
    "student_ID = '43855326'"
   ]
  },
  {
   "cell_type": "code",
   "execution_count": 2,
   "metadata": {
    "collapsed": false
   },
   "outputs": [],
   "source": [
    "import pandas as pd \n",
    "import numpy as np\n",
    "import matplotlib.pyplot as plt \n",
    "import seaborn as sns\n",
    "from sklearn.linear_model import LinearRegression  \n",
    "from sklearn.metrics import mean_squared_error as mse\n",
    "from sklearn.linear_model import Ridge\n",
    "from sklearn.linear_model import Lasso\n",
    "import statsmodels.api as sm\n",
    "sns.set_style(\"whitegrid\")\n",
    "sns.set_context(\"notebook\", font_scale=1, rc={\"lines.linewidth\": 2,'font.family': [u'times']})\n",
    "\n",
    "%matplotlib inline \n"
   ]
  },
  {
   "cell_type": "code",
   "execution_count": 3,
   "metadata": {
    "collapsed": false
   },
   "outputs": [
    {
     "name": "stdout",
     "output_type": "stream",
     "text": [
      "   Year  LogPrice  WinterRain  Temperature  HarvestRain  TimeYears\n",
      "0  1952  -0.99868         600      17.1167          160         31\n",
      "1  1953  -0.45440         690      16.7333           80         30\n",
      "2  1955  -0.80796         502      17.1500          130         28\n",
      "3  1957  -1.50926         420      16.1333          110         26\n",
      "4  1958  -1.71655         582      16.4167          187         25\n"
     ]
    },
    {
     "data": {
      "text/html": [
       "<div>\n",
       "<table border=\"1\" class=\"dataframe\">\n",
       "  <thead>\n",
       "    <tr style=\"text-align: right;\">\n",
       "      <th></th>\n",
       "      <th>Year</th>\n",
       "      <th>LogPrice</th>\n",
       "      <th>WinterRain</th>\n",
       "      <th>Temperature</th>\n",
       "      <th>HarvestRain</th>\n",
       "      <th>TimeYears</th>\n",
       "    </tr>\n",
       "  </thead>\n",
       "  <tbody>\n",
       "    <tr>\n",
       "      <th>count</th>\n",
       "      <td>24.000000</td>\n",
       "      <td>24.000000</td>\n",
       "      <td>24.000000</td>\n",
       "      <td>24.000000</td>\n",
       "      <td>24.00000</td>\n",
       "      <td>24.000000</td>\n",
       "    </tr>\n",
       "    <tr>\n",
       "      <th>mean</th>\n",
       "      <td>1965.291667</td>\n",
       "      <td>-1.431440</td>\n",
       "      <td>598.708333</td>\n",
       "      <td>16.538196</td>\n",
       "      <td>152.62500</td>\n",
       "      <td>17.708333</td>\n",
       "    </tr>\n",
       "    <tr>\n",
       "      <th>std</th>\n",
       "      <td>7.416076</td>\n",
       "      <td>0.663845</td>\n",
       "      <td>130.887764</td>\n",
       "      <td>0.673993</td>\n",
       "      <td>73.12991</td>\n",
       "      <td>7.416076</td>\n",
       "    </tr>\n",
       "    <tr>\n",
       "      <th>min</th>\n",
       "      <td>1952.000000</td>\n",
       "      <td>-2.288790</td>\n",
       "      <td>376.000000</td>\n",
       "      <td>14.983300</td>\n",
       "      <td>38.00000</td>\n",
       "      <td>6.000000</td>\n",
       "    </tr>\n",
       "    <tr>\n",
       "      <th>25%</th>\n",
       "      <td>1959.750000</td>\n",
       "      <td>-2.018143</td>\n",
       "      <td>527.500000</td>\n",
       "      <td>16.224975</td>\n",
       "      <td>94.25000</td>\n",
       "      <td>11.750000</td>\n",
       "    </tr>\n",
       "    <tr>\n",
       "      <th>50%</th>\n",
       "      <td>1965.500000</td>\n",
       "      <td>-1.440950</td>\n",
       "      <td>591.000000</td>\n",
       "      <td>16.541650</td>\n",
       "      <td>142.50000</td>\n",
       "      <td>17.500000</td>\n",
       "    </tr>\n",
       "    <tr>\n",
       "      <th>75%</th>\n",
       "      <td>1971.250000</td>\n",
       "      <td>-0.975370</td>\n",
       "      <td>691.750000</td>\n",
       "      <td>17.079200</td>\n",
       "      <td>187.00000</td>\n",
       "      <td>23.250000</td>\n",
       "    </tr>\n",
       "    <tr>\n",
       "      <th>max</th>\n",
       "      <td>1977.000000</td>\n",
       "      <td>0.000000</td>\n",
       "      <td>830.000000</td>\n",
       "      <td>17.650000</td>\n",
       "      <td>292.00000</td>\n",
       "      <td>31.000000</td>\n",
       "    </tr>\n",
       "  </tbody>\n",
       "</table>\n",
       "</div>"
      ],
      "text/plain": [
       "              Year   LogPrice  WinterRain  Temperature  HarvestRain  TimeYears\n",
       "count    24.000000  24.000000   24.000000    24.000000     24.00000  24.000000\n",
       "mean   1965.291667  -1.431440  598.708333    16.538196    152.62500  17.708333\n",
       "std       7.416076   0.663845  130.887764     0.673993     73.12991   7.416076\n",
       "min    1952.000000  -2.288790  376.000000    14.983300     38.00000   6.000000\n",
       "25%    1959.750000  -2.018143  527.500000    16.224975     94.25000  11.750000\n",
       "50%    1965.500000  -1.440950  591.000000    16.541650    142.50000  17.500000\n",
       "75%    1971.250000  -0.975370  691.750000    17.079200    187.00000  23.250000\n",
       "max    1977.000000   0.000000  830.000000    17.650000    292.00000  31.000000"
      ]
     },
     "execution_count": 3,
     "metadata": {},
     "output_type": "execute_result"
    }
   ],
   "source": [
    "# Read data into a dataframe, display first few observations and data summary\n",
    "wine_train =  pd.read_csv('wine_train.csv')\n",
    "print(wine_train.head(5))\n",
    "wine_train.describe()"
   ]
  },
  {
   "cell_type": "markdown",
   "metadata": {},
   "source": [
    "Some points to note from the dataset summary:\n",
    "- There are 24 observations in total\n",
    "- There are no missing values for all observations.\n",
    "- We will not use 'Year' variable in our models because it is only an index variable for the data set.\n",
    "- Comparing min, max and median values for each variable, we can initially make a prediction that there is no outlier in this dataset (this prediction will be verified by the below box plots)."
   ]
  },
  {
   "cell_type": "code",
   "execution_count": 4,
   "metadata": {
    "collapsed": false,
    "scrolled": true
   },
   "outputs": [
    {
     "data": {
      "image/png": "[encoded data removed]",
      "text/plain": [
       "<matplotlib.figure.Figure at 0x259af5d2240>"
      ]
     },
     "metadata": {},
     "output_type": "display_data"
    }
   ],
   "source": [
    "# Scatter plot for logPrice and temeprature\n",
    "plt.scatter(wine_train['LogPrice'], wine_train['Temperature'])\n",
    "plt.xlabel('Log Price')\n",
    "plt.ylabel('Temperature')\n",
    "plt.show()"
   ]
  },
  {
   "cell_type": "markdown",
   "metadata": {},
   "source": [
    "There seems to be a quite strong positive linear relationship between Log Price of Wine and the Temperature. Refer to the below correlation matrix to determine the strength of this relationship.\n"
   ]
  },
  {
   "cell_type": "code",
   "execution_count": 5,
   "metadata": {
    "collapsed": false,
    "scrolled": false
   },
   "outputs": [
    {
     "data": {
      "image/png": "[encoded data removed]",
      "text/plain": [
       "<matplotlib.figure.Figure at 0x259aa4469e8>"
      ]
     },
     "metadata": {},
     "output_type": "display_data"
    }
   ],
   "source": [
    "# Scatter plot matrix and histograms for all variables\n",
    "variables = ['LogPrice', 'WinterRain', 'Temperature', 'HarvestRain', 'TimeYears']\n",
    "sns.pairplot(wine_train)\n",
    "plt.show()"
   ]
  },
  {
   "cell_type": "markdown",
   "metadata": {},
   "source": [
    "LogPrice and Temperature are nearly Normally distributed, while the distributions of Harvest Rain, Winter Rain and Time Years are not obvious.\n",
    "\n",
    "Looking at all scatter plots, it is necessary to normalize any of the variables as they do not have any special patterns.\n",
    "\n",
    "\n",
    "Time Years seems to have a moderate positive linear relationship with Log Price. Additionally, Harvest Rain has a negative linear relationship with Log Price althought it is not extremely strong."
   ]
  },
  {
   "cell_type": "code",
   "execution_count": 6,
   "metadata": {
    "collapsed": false
   },
   "outputs": [
    {
     "name": "stderr",
     "output_type": "stream",
     "text": [
      "C:\\Users\\Johnny Huynh\\Anaconda3\\lib\\site-packages\\seaborn\\categorical.py:2171: UserWarning: The boxplot API has been changed. Attempting to adjust your arguments for the new API (which might not work). Please update your code. See the version 0.6 release notes for more info.\n",
      "  warnings.warn(msg, UserWarning)\n"
     ]
    },
    {
     "data": {
      "image/png": "[encoded data removed]",
      "text/plain": [
       "<matplotlib.figure.Figure at 0x259b13c6908>"
      ]
     },
     "metadata": {},
     "output_type": "display_data"
    }
   ],
   "source": [
    "# Boxplot for Winter Rain and Harvest Rain\n",
    "plt.figure(figsize=(6,6))\n",
    "sns.boxplot(wine_train[['WinterRain', 'HarvestRain']])\n",
    "plt.show()"
   ]
  },
  {
   "cell_type": "markdown",
   "metadata": {},
   "source": [
    "There are no outliers with regards to Winter Rain and Harvest Rain. The ammount of Winter Rain varies much more than the amount of Harvest Rain."
   ]
  },
  {
   "cell_type": "code",
   "execution_count": 7,
   "metadata": {
    "collapsed": false
   },
   "outputs": [
    {
     "name": "stderr",
     "output_type": "stream",
     "text": [
      "C:\\Users\\Johnny Huynh\\Anaconda3\\lib\\site-packages\\seaborn\\categorical.py:2171: UserWarning: The boxplot API has been changed. Attempting to adjust your arguments for the new API (which might not work). Please update your code. See the version 0.6 release notes for more info.\n",
      "  warnings.warn(msg, UserWarning)\n"
     ]
    },
    {
     "data": {
      "image/png": "[encoded data removed]",
      "text/plain": [
       "<matplotlib.figure.Figure at 0x259b18f0ac8>"
      ]
     },
     "metadata": {},
     "output_type": "display_data"
    }
   ],
   "source": [
    "# Box plots for Log Price, Temperature and Time Years\n",
    "# Boxplots for Winter Rain and Harvest Rain\n",
    "plt.figure(figsize=(6,6))\n",
    "sns.boxplot(wine_train[['LogPrice', 'Temperature', 'TimeYears']])\n",
    "plt.show()"
   ]
  },
  {
   "cell_type": "markdown",
   "metadata": {},
   "source": [
    "Similarly, there are no outliers with regards to LogPrice, Temperature and Time Years. LogPrice and Temperature seem to have very little variations."
   ]
  },
  {
   "cell_type": "code",
   "execution_count": 27,
   "metadata": {
    "collapsed": false
   },
   "outputs": [
    {
     "name": "stdout",
     "output_type": "stream",
     "text": [
      "                 Year  LogPrice  WinterRain  Temperature  HarvestRain  \\\n",
      "Year         1.000000 -0.488085   -0.071217    -0.191228     0.130244   \n",
      "LogPrice    -0.488085  1.000000    0.131420     0.683967    -0.575197   \n",
      "WinterRain  -0.071217  0.131420    1.000000    -0.283231    -0.222786   \n",
      "Temperature -0.191228  0.683967   -0.283231     1.000000    -0.130720   \n",
      "HarvestRain  0.130244 -0.575197   -0.222786    -0.130720     1.000000   \n",
      "TimeYears   -1.000000  0.488085    0.071217     0.191228    -0.130244   \n",
      "\n",
      "             TimeYears  \n",
      "Year         -1.000000  \n",
      "LogPrice      0.488085  \n",
      "WinterRain    0.071217  \n",
      "Temperature   0.191228  \n",
      "HarvestRain  -0.130244  \n",
      "TimeYears     1.000000  \n"
     ]
    },
    {
     "data": {
      "text/plain": [
       "<matplotlib.figure.Figure at 0x259b3d1f470>"
      ]
     },
     "metadata": {},
     "output_type": "display_data"
    }
   ],
   "source": [
    "# Correlation matrix\n",
    "fig_heat = plt.figure(figsize=(8,6))\n",
    "corr_matrix = wine_train.corr()\n",
    "print(corr_matrix)\n",
    "plt.show()\n",
    "\n",
    "\n"
   ]
  },
  {
   "cell_type": "markdown",
   "metadata": {},
   "source": [
    "The Pearson correlation table is not so obivious to observe how variables are correlated. Let's generate a correlation heatmap from Seaborn library. In a correlation heat map, the deeper the color is, the more correlation between a pair of variables and vice versa, the lighter the less correlation."
   ]
  },
  {
   "cell_type": "code",
   "execution_count": 28,
   "metadata": {
    "collapsed": false
   },
   "outputs": [
    {
     "data": {
      "image/png": "[encoded data removed]",
      "text/plain": [
       "<matplotlib.figure.Figure at 0x259b3d1fa20>"
      ]
     },
     "metadata": {},
     "output_type": "display_data"
    }
   ],
   "source": [
    "# Seaborn Correlation Heat map\n",
    "fig_heat = plt.figure(figsize=(8,6))\n",
    "corr_heatmap = sns.heatmap(corr_matrix)\n",
    "plt.show(corr_heatmap)"
   ]
  },
  {
   "cell_type": "markdown",
   "metadata": {},
   "source": [
    "As we can see, the most three deepest-coloured areas are the ones of Log Price and Harvest Rain (negative direction), Log Price and Temperature (positive direction) and Log Price and Time Years (postive directions). Double checking with the Pearson Correlation table, these pairs of variables have correlation coefficients of -0.575, 0.684 and 0.488, respectively. "
   ]
  },
  {
   "cell_type": "code",
   "execution_count": 29,
   "metadata": {
    "collapsed": false
   },
   "outputs": [
    {
     "name": "stdout",
     "output_type": "stream",
     "text": [
      "                            OLS Regression Results                            \n",
      "==============================================================================\n",
      "Dep. Variable:               LogPrice   R-squared:                       0.468\n",
      "Model:                            OLS   Adj. R-squared:                  0.444\n",
      "Method:                 Least Squares   F-statistic:                     19.34\n",
      "Date:                Fri, 03 Nov 2017   Prob (F-statistic):           0.000228\n",
      "Time:                        23:03:09   Log-Likelihood:                -16.142\n",
      "No. Observations:                  24   AIC:                             36.28\n",
      "Df Residuals:                      22   BIC:                             38.64\n",
      "Df Model:                           1                                         \n",
      "Covariance Type:            nonrobust                                         \n",
      "===============================================================================\n",
      "                  coef    std err          t      P>|t|      [95.0% Conf. Int.]\n",
      "-------------------------------------------------------------------------------\n",
      "const         -12.5727      2.536     -4.959      0.000       -17.831    -7.314\n",
      "Temperature     0.6737      0.153      4.398      0.000         0.356     0.991\n",
      "==============================================================================\n",
      "Omnibus:                        0.626   Durbin-Watson:                   1.765\n",
      "Prob(Omnibus):                  0.731   Jarque-Bera (JB):                0.644\n",
      "Skew:                           0.074   Prob(JB):                        0.725\n",
      "Kurtosis:                       2.211   Cond. No.                         417.\n",
      "==============================================================================\n",
      "\n",
      "Warnings:\n",
      "[1] Standard Errors assume that the covariance matrix of the errors is correctly specified.\n"
     ]
    }
   ],
   "source": [
    "# Fit a linear regression of Temperature on logPrice using OLS method\n",
    "x = wine_train['Temperature']\n",
    "y = wine_train['LogPrice']\n",
    "x = sm.add_constant(x)\n",
    "\n",
    "lm1 = sm.OLS(y, x).fit()\n",
    "print(lm1.summary())"
   ]
  },
  {
   "cell_type": "markdown",
   "metadata": {},
   "source": [
    "- Using the OLS method, we have the regression model:\n",
    "LogPrice = -12.57 + 0.6737 * Temperature \n",
    "- Both intercept and slope coefficients are highly significant (p-values << 0.01)\n",
    "- The overall model is also highly significant - validated by p-value of F-statistic << 0.01 \n",
    "- Temperature coefficient interpretation: With one unit increasing in temperature, log price will increase by 0.6737 unit in average, with other variables remain unchanged.\n",
    "- BIC = 36.28 - the Bayesian Information Criterion is still high. The lower BIC, the better.\n",
    "- R^2 = 0.468 - it is not too impressive while the model can only explain 46.8% variability of the Log Price around its mean. \n"
   ]
  },
  {
   "cell_type": "markdown",
   "metadata": {},
   "source": [
    "Now let's try adding further independent variables to the model. Those variables which are highly correlated with LogPrice (Pearson correlation coefficient > 0.3) will be selected i.e. TimeYears and HarvestRain "
   ]
  },
  {
   "cell_type": "code",
   "execution_count": 10,
   "metadata": {
    "collapsed": false
   },
   "outputs": [
    {
     "name": "stdout",
     "output_type": "stream",
     "text": [
      "                            OLS Regression Results                            \n",
      "==============================================================================\n",
      "Dep. Variable:               LogPrice   R-squared:                       0.600\n",
      "Model:                            OLS   Adj. R-squared:                  0.562\n",
      "Method:                 Least Squares   F-statistic:                     15.77\n",
      "Date:                Fri, 03 Nov 2017   Prob (F-statistic):           6.58e-05\n",
      "Time:                        22:56:32   Log-Likelihood:                -12.706\n",
      "No. Observations:                  24   AIC:                             31.41\n",
      "Df Residuals:                      21   BIC:                             34.95\n",
      "Df Model:                           2                                         \n",
      "Covariance Type:            nonrobust                                         \n",
      "===============================================================================\n",
      "                  coef    std err          t      P>|t|      [95.0% Conf. Int.]\n",
      "-------------------------------------------------------------------------------\n",
      "const         -12.0054      2.259     -5.314      0.000       -16.704    -7.307\n",
      "Temperature     0.6038      0.138      4.362      0.000         0.316     0.892\n",
      "TimeYears       0.0332      0.013      2.639      0.015         0.007     0.059\n",
      "==============================================================================\n",
      "Omnibus:                        1.574   Durbin-Watson:                   2.337\n",
      "Prob(Omnibus):                  0.455   Jarque-Bera (JB):                1.075\n",
      "Skew:                           0.220   Prob(JB):                        0.584\n",
      "Kurtosis:                       2.062   Cond. No.                         628.\n",
      "==============================================================================\n",
      "\n",
      "Warnings:\n",
      "[1] Standard Errors assume that the covariance matrix of the errors is correctly specified.\n"
     ]
    }
   ],
   "source": [
    "# Fit a linear regression of Temperature and Time Years on logPrice using OLS method\n",
    "x = wine_train[['Temperature', 'TimeYears']]\n",
    "y = wine_train['LogPrice']\n",
    "x = sm.add_constant(x)\n",
    "\n",
    "lm2 = sm.OLS(y, x).fit()\n",
    "print(lm2.summary())"
   ]
  },
  {
   "cell_type": "markdown",
   "metadata": {},
   "source": [
    "All coefficients are highly significant with lower BIC: 34.95 compared to 38.64 of the original model.\n",
    "R^2 increases from 0.468 to 0.6 (0.132 difference)"
   ]
  },
  {
   "cell_type": "code",
   "execution_count": 11,
   "metadata": {
    "collapsed": false
   },
   "outputs": [
    {
     "name": "stdout",
     "output_type": "stream",
     "text": [
      "                            OLS Regression Results                            \n",
      "==============================================================================\n",
      "Dep. Variable:               LogPrice   R-squared:                       0.708\n",
      "Model:                            OLS   Adj. R-squared:                  0.680\n",
      "Method:                 Least Squares   F-statistic:                     25.45\n",
      "Date:                Fri, 03 Nov 2017   Prob (F-statistic):           2.44e-06\n",
      "Time:                        22:56:32   Log-Likelihood:                -8.9428\n",
      "No. Observations:                  24   AIC:                             23.89\n",
      "Df Residuals:                      21   BIC:                             27.42\n",
      "Df Model:                           2                                         \n",
      "Covariance Type:            nonrobust                                         \n",
      "===============================================================================\n",
      "                  coef    std err          t      P>|t|      [95.0% Conf. Int.]\n",
      "-------------------------------------------------------------------------------\n",
      "const         -10.8356      1.968     -5.507      0.000       -14.927    -6.744\n",
      "Temperature     0.6100      0.117      5.207      0.000         0.366     0.854\n",
      "HarvestRain    -0.0045      0.001     -4.155      0.000        -0.007    -0.002\n",
      "==============================================================================\n",
      "Omnibus:                        1.463   Durbin-Watson:                   1.660\n",
      "Prob(Omnibus):                  0.481   Jarque-Bera (JB):                0.894\n",
      "Skew:                          -0.472   Prob(JB):                        0.640\n",
      "Kurtosis:                       2.942   Cond. No.                     4.35e+03\n",
      "==============================================================================\n",
      "\n",
      "Warnings:\n",
      "[1] Standard Errors assume that the covariance matrix of the errors is correctly specified.\n",
      "[2] The condition number is large, 4.35e+03. This might indicate that there are\n",
      "strong multicollinearity or other numerical problems.\n"
     ]
    }
   ],
   "source": [
    "# Fit a linear regression of Temperature and Harvest Rain on logPrice using OLS method\n",
    "x = wine_train[['Temperature', 'HarvestRain']]\n",
    "y = wine_train['LogPrice']\n",
    "x = sm.add_constant(x)\n",
    "\n",
    "lm3 = sm.OLS(y, x).fit()\n",
    "print(lm3.summary())"
   ]
  },
  {
   "cell_type": "markdown",
   "metadata": {},
   "source": [
    "All coefficients are highly significant with lower BIC: 27.42 compared to 38.64 of the original model.\n",
    "R^2 increases from 0.468 to 0.708 (0.24 difference)\n",
    "Adding HarvestRain seems more effective than adding TimeYears."
   ]
  },
  {
   "cell_type": "code",
   "execution_count": 12,
   "metadata": {
    "collapsed": false
   },
   "outputs": [
    {
     "name": "stdout",
     "output_type": "stream",
     "text": [
      "                            OLS Regression Results                            \n",
      "==============================================================================\n",
      "Dep. Variable:               LogPrice   R-squared:                       0.806\n",
      "Model:                            OLS   Adj. R-squared:                  0.777\n",
      "Method:                 Least Squares   F-statistic:                     27.66\n",
      "Date:                Fri, 03 Nov 2017   Prob (F-statistic):           2.56e-07\n",
      "Time:                        22:56:32   Log-Likelihood:                -4.0458\n",
      "No. Observations:                  24   AIC:                             16.09\n",
      "Df Residuals:                      20   BIC:                             20.80\n",
      "Df Model:                           3                                         \n",
      "Covariance Type:            nonrobust                                         \n",
      "===============================================================================\n",
      "                  coef    std err          t      P>|t|      [95.0% Conf. Int.]\n",
      "-------------------------------------------------------------------------------\n",
      "const         -10.4658      1.648     -6.350      0.000       -13.904    -7.028\n",
      "Temperature     0.5541      0.099      5.570      0.000         0.347     0.762\n",
      "HarvestRain    -0.0042      0.001     -4.600      0.000        -0.006    -0.002\n",
      "TimeYears       0.0287      0.009      3.175      0.005         0.010     0.048\n",
      "==============================================================================\n",
      "Omnibus:                        0.903   Durbin-Watson:                   2.344\n",
      "Prob(Omnibus):                  0.637   Jarque-Bera (JB):                0.766\n",
      "Skew:                          -0.101   Prob(JB):                        0.682\n",
      "Kurtosis:                       2.148   Cond. No.                     4.38e+03\n",
      "==============================================================================\n",
      "\n",
      "Warnings:\n",
      "[1] Standard Errors assume that the covariance matrix of the errors is correctly specified.\n",
      "[2] The condition number is large, 4.38e+03. This might indicate that there are\n",
      "strong multicollinearity or other numerical problems.\n"
     ]
    }
   ],
   "source": [
    "# Fit a linear regression of Temperature and Harvest Rain on logPrice using OLS method\n",
    "x = wine_train[['Temperature', 'HarvestRain', 'TimeYears']]\n",
    "y = wine_train['LogPrice']\n",
    "x = sm.add_constant(x)\n",
    "\n",
    "lm4 = sm.OLS(y, x).fit()\n",
    "print(lm4.summary())"
   ]
  },
  {
   "cell_type": "markdown",
   "metadata": {},
   "source": [
    "All coefficients are still highly significant with lower BIC: 20.08 compared to the BIC of all previous models.\n",
    "R^2 increases from 0.468 to 0.806 (0.338 difference) with regards to original model. Compared to just adding HarvestRain, R^2 increases from 0.708 to 0.806\n",
    "\n",
    "\n",
    "Adding both two variables brings more impressive results compared to adding each individually. However, given the fact that R^2 will always increase when we add more variables to our model. The important thing is that we should carefully trade-off between the amount of R^2 increasing with the complexity of the model."
   ]
  },
  {
   "cell_type": "code",
   "execution_count": 13,
   "metadata": {
    "collapsed": false
   },
   "outputs": [
    {
     "name": "stdout",
     "output_type": "stream",
     "text": [
      "                            OLS Regression Results                            \n",
      "==============================================================================\n",
      "Dep. Variable:               LogPrice   R-squared:                       0.838\n",
      "Model:                            OLS   Adj. R-squared:                  0.804\n",
      "Method:                 Least Squares   F-statistic:                     24.63\n",
      "Date:                Fri, 03 Nov 2017   Prob (F-statistic):           2.72e-07\n",
      "Time:                        22:56:32   Log-Likelihood:                -1.8448\n",
      "No. Observations:                  24   AIC:                             13.69\n",
      "Df Residuals:                      19   BIC:                             19.58\n",
      "Df Model:                           4                                         \n",
      "Covariance Type:            nonrobust                                         \n",
      "===============================================================================\n",
      "                  coef    std err          t      P>|t|      [95.0% Conf. Int.]\n",
      "-------------------------------------------------------------------------------\n",
      "const         -12.1766      1.774     -6.866      0.000       -15.889    -8.465\n",
      "Temperature     0.6192      0.099      6.261      0.000         0.412     0.826\n",
      "HarvestRain    -0.0037      0.001     -4.228      0.000        -0.006    -0.002\n",
      "TimeYears       0.0269      0.009      3.160      0.005         0.009     0.045\n",
      "WinterRain      0.0010      0.001      1.956      0.065        -7e-05     0.002\n",
      "==============================================================================\n",
      "Omnibus:                        3.801   Durbin-Watson:                   2.651\n",
      "Prob(Omnibus):                  0.150   Jarque-Bera (JB):                1.508\n",
      "Skew:                           0.149   Prob(JB):                        0.470\n",
      "Kurtosis:                       1.809   Cond. No.                     1.87e+04\n",
      "==============================================================================\n",
      "\n",
      "Warnings:\n",
      "[1] Standard Errors assume that the covariance matrix of the errors is correctly specified.\n",
      "[2] The condition number is large, 1.87e+04. This might indicate that there are\n",
      "strong multicollinearity or other numerical problems.\n"
     ]
    }
   ],
   "source": [
    "x = wine_train[['Temperature', 'HarvestRain', 'TimeYears', 'WinterRain']]\n",
    "y = wine_train['LogPrice']\n",
    "x = sm.add_constant(x)\n",
    "\n",
    "lm4 = sm.OLS(y, x).fit()\n",
    "print(lm4.summary())"
   ]
  },
  {
   "cell_type": "markdown",
   "metadata": {},
   "source": [
    "When WinterRain is added, R^2 only increases from 0.806 (above model) to 0.838 and BIC only decreases from 20.8 to 19.58. WinterRain itself is also not significant. "
   ]
  },
  {
   "cell_type": "markdown",
   "metadata": {},
   "source": [
    "In conclusion, we will select the model with Temperature, HarvestRain and TimeYears as our final model. It has lowest BIC, acceptably high R^2 and all predictors are highly significant: \n",
    "\n",
    "LogPrice = -10.836 + 0.5541 Temperature  - 0.0042 HarvestRain + 0.0287 TimeYears \n",
    "\n",
    "The model does not seem to suffer multicollinearity problems, while the correlations of pairs of predictors are low (all absolute Peaseon correlation coefficients are less than 0.3). Moreover, all coefficients are significant and there were not dramatic changes in coefficients when we added more variables to the model.\n"
   ]
  },
  {
   "cell_type": "code",
   "execution_count": 14,
   "metadata": {
    "collapsed": false
   },
   "outputs": [
    {
     "data": {
      "text/html": [
       "<div>\n",
       "<table border=\"1\" class=\"dataframe\">\n",
       "  <thead>\n",
       "    <tr style=\"text-align: right;\">\n",
       "      <th></th>\n",
       "      <th>Year</th>\n",
       "      <th>LogPrice</th>\n",
       "      <th>WinterRain</th>\n",
       "      <th>Temperature</th>\n",
       "      <th>HarvestRain</th>\n",
       "      <th>TimeYears</th>\n",
       "    </tr>\n",
       "  </thead>\n",
       "  <tbody>\n",
       "    <tr>\n",
       "      <th>0</th>\n",
       "      <td>1978</td>\n",
       "      <td>-1.30769</td>\n",
       "      <td>763</td>\n",
       "      <td>15.8167</td>\n",
       "      <td>51</td>\n",
       "      <td>5</td>\n",
       "    </tr>\n",
       "    <tr>\n",
       "      <th>1</th>\n",
       "      <td>1979</td>\n",
       "      <td>-1.53960</td>\n",
       "      <td>717</td>\n",
       "      <td>16.1667</td>\n",
       "      <td>122</td>\n",
       "      <td>4</td>\n",
       "    </tr>\n",
       "    <tr>\n",
       "      <th>2</th>\n",
       "      <td>1980</td>\n",
       "      <td>-1.99582</td>\n",
       "      <td>578</td>\n",
       "      <td>16.0000</td>\n",
       "      <td>74</td>\n",
       "      <td>3</td>\n",
       "    </tr>\n",
       "  </tbody>\n",
       "</table>\n",
       "</div>"
      ],
      "text/plain": [
       "   Year  LogPrice  WinterRain  Temperature  HarvestRain  TimeYears\n",
       "0  1978  -1.30769         763      15.8167           51          5\n",
       "1  1979  -1.53960         717      16.1667          122          4\n",
       "2  1980  -1.99582         578      16.0000           74          3"
      ]
     },
     "execution_count": 14,
     "metadata": {},
     "output_type": "execute_result"
    }
   ],
   "source": [
    "# Challenge\n",
    "wine_test = pd.read_csv('wine_test.csv')\n",
    "wine_test.head()"
   ]
  },
  {
   "cell_type": "markdown",
   "metadata": {},
   "source": [
    "Now the challenge is predicting the LogPrice with lowest possible square root of mean squared error (RMSE). Note that our selected final model is only the best trade-off between model's simplicity and R^2. It may be (or may not be) the best performance model with highest predicting power.\n",
    "We should try to test several regression models to determine which one will predict LogPrice more accurately.\n"
   ]
  },
  {
   "cell_type": "code",
   "execution_count": 15,
   "metadata": {
    "collapsed": false
   },
   "outputs": [
    {
     "name": "stdout",
     "output_type": "stream",
     "text": [
      "RMSE: 0.3544456535\n"
     ]
    }
   ],
   "source": [
    "# Fitting model with Temperature, HarvestRain and TimeYears using sci-kit learn library\n",
    "final_model = LinearRegression(fit_intercept =True)\n",
    "final_model.fit(wine_train[['Temperature', 'HarvestRain', 'TimeYears']], wine_train[['LogPrice']]) \n",
    "test_predictions = final_model.predict(wine_test[['Temperature', 'HarvestRain','TimeYears']])\n",
    "print(\"RMSE:\", np.sqrt(mse(test_predictions, wine_test['LogPrice'])))\n"
   ]
  },
  {
   "cell_type": "code",
   "execution_count": 16,
   "metadata": {
    "collapsed": false
   },
   "outputs": [
    {
     "name": "stdout",
     "output_type": "stream",
     "text": [
      "RMSE: 0.267926362814\n"
     ]
    }
   ],
   "source": [
    "# Fitting model with Temperature, HarvestRain, TimeYears and WinterRain using sci-kit learn library\n",
    "final_model = LinearRegression(fit_intercept =True)\n",
    "final_model.fit(wine_train[['Temperature', 'HarvestRain', 'TimeYears', 'WinterRain']], wine_train[['LogPrice']]) \n",
    "test_predictions = final_model.predict(wine_test[['Temperature', 'HarvestRain','TimeYears', 'WinterRain']])\n",
    "print(\"RMSE:\", np.sqrt(mse(test_predictions, wine_test['LogPrice'])))"
   ]
  },
  {
   "cell_type": "markdown",
   "metadata": {},
   "source": [
    "Now the linear regression model with all variables is the best performing one. \n"
   ]
  },
  {
   "cell_type": "markdown",
   "metadata": {},
   "source": [
    "Experiment with different types of Regression, such as Ridge and Lasso. They are different from Linear Regression at the objective functions (adding magnitude of the coefficients)\n",
    "Linear Regression: Objective = RSS (minimized residual sum of squares)\n",
    "\n",
    "\n",
    "Ridge Regression: Objective = RSS + alpha x  sum of squares of coefficients\n",
    "\n",
    "\n",
    "Lasso Regression: Objective = RSS + alpha x  sum of absolute values of coefficients\n"
   ]
  },
  {
   "cell_type": "code",
   "execution_count": 17,
   "metadata": {
    "collapsed": false
   },
   "outputs": [
    {
     "data": {
      "text/plain": [
       "0.25282223770523665"
      ]
     },
     "execution_count": 17,
     "metadata": {},
     "output_type": "execute_result"
    }
   ],
   "source": [
    "rmse_ridge = []\n",
    "for a in np.arange(0.0, 10.0, 0.1):\n",
    "    rid_model = Ridge(alpha=a)\n",
    "    rid_model.fit(wine_train[['Temperature', 'HarvestRain', 'TimeYears','WinterRain']], wine_train[['LogPrice']]) \n",
    "    test_predictions = rid_model.predict(wine_test[['Temperature', 'HarvestRain','TimeYears', 'WinterRain']])\n",
    "    rmse_ridge.append(np.sqrt(mse(test_predictions, wine_test['LogPrice'])))    \n",
    "np.min(rmse_ridge)"
   ]
  },
  {
   "cell_type": "code",
   "execution_count": 18,
   "metadata": {
    "collapsed": false
   },
   "outputs": [
    {
     "name": "stdout",
     "output_type": "stream",
     "text": [
      "Lowest RMSE: 0.245583165361 with alpha = 0.1\n"
     ]
    }
   ],
   "source": [
    "rmse_lass = []\n",
    "for a in np.arange(0.1, 10.0, 0.1):\n",
    "    lass_model = Lasso(alpha=a)\n",
    "    lass_model.fit(wine_train[['Temperature', 'HarvestRain', 'TimeYears','WinterRain']], wine_train[['LogPrice']]) \n",
    "    test_predictions = lass_model.predict(wine_test[['Temperature', 'HarvestRain','TimeYears', 'WinterRain']])\n",
    "    rmse_lass.append(np.sqrt(mse(test_predictions, wine_test['LogPrice'])))\n",
    "print('Lowest RMSE:', np.min(rmse_lass), \"with alpha =\", 0.1 + rmse_lass.index(np.min(rmse_lass))*0.1)\n"
   ]
  },
  {
   "cell_type": "markdown",
   "metadata": {},
   "source": [
    "In conclusion, the Lasso regression with all 4 variables: Temperature, TimeYears, HarvestRain and WinterRain with alpha = 0.1 is the best predicting model. "
   ]
  }
 ],
 "metadata": {
  "kernelspec": {
   "display_name": "Python 3",
   "language": "python",
   "name": "python3"
  },
  "language_info": {
   "codemirror_mode": {
    "name": "ipython",
    "version": 3
   },
   "file_extension": ".py",
   "mimetype": "text/x-python",
   "name": "python",
   "nbconvert_exporter": "python",
   "pygments_lexer": "ipython3",
   "version": "3.6.0"
  }
 },
 "nbformat": 4,
 "nbformat_minor": 2
}
